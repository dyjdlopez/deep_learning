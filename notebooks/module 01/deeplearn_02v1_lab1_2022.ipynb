{
  "cells": [
    {
      "cell_type": "markdown",
      "metadata": {
        "id": "view-in-github",
        "colab_type": "text"
      },
      "source": [
        "<a href=\"https://colab.research.google.com/github/dyjdlopez/deep_learning/blob/main/notebooks/module%2001/deeplearn_02v1_lab1_2022.ipynb\" target=\"_parent\"><img src=\"https://colab.research.google.com/assets/colab-badge.svg\" alt=\"Open In Colab\"/></a>"
      ]
    },
    {
      "cell_type": "markdown",
      "metadata": {
        "id": "SsSAkmnxn_w9"
      },
      "source": [
        "# Topic 2: Training Routines and Monitoring\n",
        "$_{\\text{©D.J. Lopez | 2022 | Deep Learning}}$\n"
      ]
    },
    {
      "cell_type": "markdown",
      "metadata": {
        "id": "fNDOwbRtoUAD"
      },
      "source": [
        ""
      ]
    },
    {
      "cell_type": "code",
      "execution_count": null,
      "metadata": {
        "id": "0-Ao7sdRn-iB"
      },
      "outputs": [],
      "source": [
        "import tensorflow as tf\n",
        "import numpy as np\n",
        "import matplotlib.pyplot as plt\n",
        "import tensorboard\n",
        "\n",
        "from google.colab import drive\n",
        "import os\n",
        "import datetime"
      ]
    },
    {
      "cell_type": "code",
      "source": [
        "drive.mount('/content/drive')"
      ],
      "metadata": {
        "colab": {
          "base_uri": "https://localhost:8080/"
        },
        "id": "yxXAmibazuVU",
        "outputId": "4c1c50c4-6d0a-41bb-a3c1-20effc7116ef"
      },
      "execution_count": null,
      "outputs": [
        {
          "output_type": "stream",
          "name": "stdout",
          "text": [
            "Drive already mounted at /content/drive; to attempt to forcibly remount, call drive.mount(\"/content/drive\", force_remount=True).\n"
          ]
        }
      ]
    },
    {
      "cell_type": "markdown",
      "source": [
        "For this activity we will be using the [MNIST Hand-written letter dataset](http://yann.lecun.com/exdb/mnist/) by Y. LeCunn et al (2010). It is an image dataset wherein we will try to classify using DNNs.  "
      ],
      "metadata": {
        "id": "lUrE1n3Gp_aB"
      }
    },
    {
      "cell_type": "code",
      "source": [
        "(x_train, y_train), (x_test, y_test) = tf.keras.datasets.mnist.load_data()\n",
        "(x_train, x_valid) = x_train[5000:], x_train[:5000] \n",
        "(y_train, y_valid) = y_train[5000:], y_train[:5000]"
      ],
      "metadata": {
        "id": "t5IRd_u0q7tY"
      },
      "execution_count": null,
      "outputs": []
    },
    {
      "cell_type": "code",
      "source": [
        "## Let's try to see some examples\n",
        "plt.imshow(x_train[0],cmap='gray')"
      ],
      "metadata": {
        "colab": {
          "base_uri": "https://localhost:8080/",
          "height": 282
        },
        "id": "mzPxt8zJroz2",
        "outputId": "38337c4e-2a0b-47ac-b236-6c31b0127e2b"
      },
      "execution_count": null,
      "outputs": [
        {
          "output_type": "execute_result",
          "data": {
            "text/plain": [
              "<matplotlib.image.AxesImage at 0x7fc09ef62410>"
            ]
          },
          "metadata": {},
          "execution_count": 69
        },
        {
          "output_type": "display_data",
          "data": {
            "image/png": "[encoded data removed]",
            "text/plain": [
              "<Figure size 432x288 with 1 Axes>"
            ]
          },
          "metadata": {
            "needs_background": "light"
          }
        }
      ]
    },
    {
      "cell_type": "code",
      "source": [
        "w, h = 28, 28\n",
        "x_train = x_train.reshape(x_train.shape[0], w, h, 1)\n",
        "x_valid = x_valid.reshape(x_valid.shape[0], w, h, 1)\n",
        "x_test = x_test.reshape(x_test.shape[0], w, h, 1)\n",
        "\n",
        "print(x_train.shape[0], 'train set')\n",
        "print(x_valid.shape[0], 'validation set')\n",
        "print(x_test.shape[0], 'test set')"
      ],
      "metadata": {
        "colab": {
          "base_uri": "https://localhost:8080/"
        },
        "id": "qlLAuhw52dMD",
        "outputId": "02984e45-4215-48a2-e1b9-edde551a146c"
      },
      "execution_count": null,
      "outputs": [
        {
          "output_type": "stream",
          "name": "stdout",
          "text": [
            "55000 train set\n",
            "5000 validation set\n",
            "10000 test set\n"
          ]
        }
      ]
    },
    {
      "cell_type": "code",
      "source": [
        "model = tf.keras.Sequential([\n",
        "                             tf.keras.layers.Flatten(input_shape=(28,28)),\n",
        "                             tf.keras.layers.Dense(128, activation='relu'),\n",
        "                             tf.keras.layers.Dense(10, activation='softmax')\n",
        "\n",
        "])\n",
        "model.compile(\n",
        "    optimizer=tf.keras.optimizers.Adam(0.001),\n",
        "    loss=tf.keras.losses.SparseCategoricalCrossentropy(),\n",
        "    metrics=[tf.keras.metrics.SparseCategoricalAccuracy()]\n",
        ")"
      ],
      "metadata": {
        "id": "eJPc5KdLudKY"
      },
      "execution_count": null,
      "outputs": []
    },
    {
      "cell_type": "markdown",
      "source": [
        "## Part 1: Callbacks and Checkpoints"
      ],
      "metadata": {
        "id": "IrKJ6B4Ank1A"
      }
    },
    {
      "cell_type": "code",
      "source": [
        "## Set up your log file locations especially for model checkpoints\n",
        "log_dir = \"logs/fit/\" + datetime.datetime.now().strftime(\"%Y%m%d-%H%M%S\")\n",
        "tensorboard_callback = tf.keras.callbacks.TensorBoard(log_dir=log_dir, histogram_freq=1)\n",
        "checkpoint_filepath = 'drive/MyDrive/deeplearn/lab02/tmp/ckpts/'"
      ],
      "metadata": {
        "id": "eLUfXfJNn90X"
      },
      "execution_count": null,
      "outputs": []
    },
    {
      "cell_type": "markdown",
      "source": [
        "### Checkpoints\n",
        "Checkpoints are points non-final model weights it is saved in during training in which it follows certain criteria such as lower losses or higher accuracies. These would help you back-track and audit your model training. We allow checkpoints using TF Callbacks."
      ],
      "metadata": {
        "id": "eDxtzM1owmYq"
      }
    },
    {
      "cell_type": "markdown",
      "source": [
        "### Callbacks\n",
        "Callbacks are like helper functions in your model procedure. They can help in numerous ways not just with logging and checkpoints. Callbacks can also immediately stop training when there are possible instances of saddlepoints or model divergence. Some of the functions that you could use as callbacks are:\n",
        "\n",
        "\n",
        "* [BackupAndRestore](https://www.tensorflow.org/api_docs/python/tf/keras/callbacks/BackupAndRestore) - Callback to back up and restore the training state.\n",
        "* [BaseLogger](https://www.tensorflow.org/api_docs/python/tf/keras/callbacks/BaseLogger) - Callback that accumulates epoch averages of metrics.\n",
        "* [CSVLogger](https://www.tensorflow.org/api_docs/python/tf/keras/callbacks/CSVLogger) - Callback that streams epoch results to a CSV file.\n",
        "* [Callback](https://www.tensorflow.org/api_docs/python/tf/keras/callbacks/Callback) - Abstract base class used to build new callbacks.\n",
        "* [CallbackList](https://www.tensorflow.org/api_docs/python/tf/keras/callbacks/CallbackList) - Container abstracting a list of callbacks.\n",
        "* [EarlyStopping](https://www.tensorflow.org/api_docs/python/tf/keras/callbacks/EarlyStopping) - Stop training when a monitored metric has stopped improving.\n",
        "* [History](https://www.tensorflow.org/api_docs/python/tf/keras/callbacks/History) - Callback that records events into a `History` object.\n",
        "* [LambdaCallback](https://www.tensorflow.org/api_docs/python/tf/keras/callbacks/LambdaCallback) - Callback for creating simple, custom callbacks on-the-fly.\n",
        "* [LearningRateScheduler](https://www.tensorflow.org/api_docs/python/tf/keras/callbacks/LearningRateScheduler) - Automatically adjusts the learning rate based on epoch numbers.\n",
        "* [ModelCheckpoint](https://www.tensorflow.org/api_docs/python/tf/keras/callbacks/ModelCheckpoint) - Callback to save the Keras model or model weights at some frequency.\n",
        "* [ProgbarLogger](https://www.tensorflow.org/api_docs/python/tf/keras/callbacks/ProgbarLogger) - Callback that prints metrics to stdout.\n",
        "* [ReduceLROnPlateau](https://www.tensorflow.org/api_docs/python/tf/keras/callbacks/ReduceLROnPlateau) - Reduce learning rate when a metric has stopped improving\n",
        "* [RemoteMonitor](https://www.tensorflow.org/api_docs/python/tf/keras/callbacks/RemoteMonitor) - Callback used to stream events to a server.\n",
        "* [TensorBoard](https://www.tensorflow.org/api_docs/python/tf/keras/callbacks/TensorBoard) - Enable visualizations for TensorBoard.\n",
        "* [TerminateOnNaN](https://www.tensorflow.org/api_docs/python/tf/keras/callbacks/TerminateOnNaN) - Callback that terminates training when a NaN loss is encountered.\n",
        "\n"
      ],
      "metadata": {
        "id": "86pEwE1IxKF_"
      }
    },
    {
      "cell_type": "code",
      "source": [
        "## This is a TF Callback\n",
        "model_checkpoint_callback = tf.keras.callbacks.ModelCheckpoint(\n",
        "    filepath=checkpoint_filepath+'model.weights_best.hdf5',\n",
        "    verbose = 1,\n",
        "    save_best_only=True)"
      ],
      "metadata": {
        "id": "AqbqZO-Pwby0"
      },
      "execution_count": null,
      "outputs": []
    },
    {
      "cell_type": "markdown",
      "source": [
        "## Part 1: TensorBoard"
      ],
      "metadata": {
        "id": "NKP8AR9Vnnqg"
      }
    },
    {
      "cell_type": "code",
      "source": [
        "# For Refreshing the TensorBoard process. Use this to refresh the logs\n",
        "!kill 386\n",
        "%reload_ext tensorboard\n",
        "!rm -rf ./logs/"
      ],
      "metadata": {
        "colab": {
          "base_uri": "https://localhost:8080/"
        },
        "id": "hSVgVdr30MAH",
        "outputId": "570c0eec-c993-4b50-9ed2-3595820caad8"
      },
      "execution_count": null,
      "outputs": [
        {
          "output_type": "stream",
          "name": "stdout",
          "text": [
            "/bin/bash: line 0: kill: (386) - No such process\n"
          ]
        }
      ]
    },
    {
      "cell_type": "code",
      "source": [
        "EPOCHS = 10\n",
        "%tensorboard --logdir logs/fit\n",
        "hist = model.fit(x_train, y_train,\n",
        "                 epochs=EPOCHS,\n",
        "                 validation_data=(x_valid,y_valid),\n",
        "                 callbacks=[tensorboard_callback, \n",
        "                            model_checkpoint_callback],\n",
        "                 verbose=1) "
      ],
      "metadata": {
        "id": "l0IyWZunnnGh"
      },
      "execution_count": null,
      "outputs": []
    },
    {
      "cell_type": "code",
      "source": [
        "model.load_weights(checkpoint_filepath+'model.weights_best.hdf5')"
      ],
      "metadata": {
        "id": "XyRwvj-I6JCe"
      },
      "execution_count": null,
      "outputs": []
    },
    {
      "cell_type": "code",
      "source": [
        "score = model.evaluate(x_test, y_test, verbose=0)\n",
        "print('\\n', 'Test accuracy:', score[1])"
      ],
      "metadata": {
        "colab": {
          "base_uri": "https://localhost:8080/"
        },
        "id": "dFkDF7R-5YY0",
        "outputId": "fc5d6102-a9fc-434e-af10-62faa4bf4a59"
      },
      "execution_count": null,
      "outputs": [
        {
          "output_type": "stream",
          "name": "stdout",
          "text": [
            "\n",
            " Test accuracy: 0.9438999891281128\n"
          ]
        }
      ]
    },
    {
      "cell_type": "code",
      "source": [
        "model.save('saved_model/lab02_mnist')\n",
        "model.save('saved_model/lab02_mnist.hdf5')"
      ],
      "metadata": {
        "colab": {
          "base_uri": "https://localhost:8080/"
        },
        "id": "yglH_FYG2g0m",
        "outputId": "de230885-9157-4463-8e6b-0f909ad1640c"
      },
      "execution_count": null,
      "outputs": [
        {
          "output_type": "stream",
          "name": "stdout",
          "text": [
            "INFO:tensorflow:Assets written to: saved_model/lab02_mnist/assets\n"
          ]
        },
        {
          "output_type": "stream",
          "name": "stderr",
          "text": [
            "INFO:tensorflow:Assets written to: saved_model/lab02_mnist/assets\n"
          ]
        }
      ]
    },
    {
      "cell_type": "code",
      "source": [
        "y_hat = model.predict(x_test)\n",
        "\n",
        "figure = plt.figure(figsize=(20, 8))\n",
        "for i, index in enumerate(np.random.choice(x_test.shape[0], size=15, replace=False)):\n",
        "    ax = figure.add_subplot(3, 5, i + 1, xticks=[], yticks=[])\n",
        "    # Display each image\n",
        "    ax.imshow(np.squeeze(x_test[index]))\n",
        "    predict_index = np.argmax(y_hat[index])\n",
        "    true_index = y_test[index]\n",
        "    # Set the title for each image\n",
        "    ax.set_title(\"{} ({})\".format(predict_index, \n",
        "                                  true_index),\n",
        "                                  color=(\"green\" if predict_index == true_index else \"red\"))"
      ],
      "metadata": {
        "colab": {
          "base_uri": "https://localhost:8080/",
          "height": 485
        },
        "id": "nsOnBI2v5HEy",
        "outputId": "88d327e7-4052-41fc-ac22-7851c2bc185f"
      },
      "execution_count": null,
      "outputs": [
        {
          "output_type": "display_data",
          "data": {
            "image/png": "[encoded data removed]",
            "text/plain": [
              "<Figure size 1440x576 with 15 Axes>"
            ]
          },
          "metadata": {}
        }
      ]
    }
  ],
  "metadata": {
    "colab": {
      "name": "deeplearn_02v1_lab1_2022.ipynb",
      "provenance": [],
      "include_colab_link": true
    },
    "kernelspec": {
      "display_name": "Python 3",
      "name": "python3"
    },
    "language_info": {
      "name": "python"
    }
  },
  "nbformat": 4,
  "nbformat_minor": 0
}